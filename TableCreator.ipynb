{
 "cells": [
  {
   "cell_type": "code",
   "execution_count": 1,
   "id": "25b8b911",
   "metadata": {},
   "outputs": [],
   "source": [
    "import numpy as np\n",
    "import names\n",
    "import uuid\n",
    "from cassandra.cluster import Cluster\n",
    "from itertools import product, combinations"
   ]
  },
  {
   "cell_type": "code",
   "execution_count": 2,
   "id": "0d4fead4",
   "metadata": {},
   "outputs": [],
   "source": [
    "cities = [\"Lublin\", \"Warszawa\", \"Poznan\", \"Krakow\", \"Gdansk\",\"Radom\",\"Wroclaw\",\"Lodz\",\"Katowice\"]\n",
    "first_names = [\"John\", \"Marek\", \"Jerzy\", \"Klaus\", \"Wojtek\", \"Dawid\", \"Eustachy\", \"Diego\", \"Luther\"]\n",
    "second_names = [\"Kenedy\", \"Obama\", \"Kowalski\", \"Trump\", \"Piekarski\", \"Szymczak\", \"Patyk\", \"Piaseczny\", \"Grzyb\", \"Kloc\"]"
   ]
  },
  {
   "cell_type": "code",
   "execution_count": 3,
   "id": "26ace852",
   "metadata": {},
   "outputs": [],
   "source": [
    "cluster = Cluster(['127.0.0.1'], port=9042)\n",
    "session = cluster.connect()"
   ]
  },
  {
   "cell_type": "code",
   "execution_count": 4,
   "id": "4ab30c43",
   "metadata": {},
   "outputs": [],
   "source": [
    "def create_keyspace(session):\n",
    "    try:\n",
    "        session.execute(\"DROP KEYSPACE IF EXISTS reservation_flights\")\n",
    "        session.execute(\"CREATE KEYSPACE IF NOT EXISTS reservation_flights WITH REPLICATION = { 'class' : 'SimpleStrategy', 'replication_factor' : 3 }\")\n",
    "        session.execute(\"USE reservation_flights\")\n",
    "        print(\"done\")\n",
    "    except Exception as e:\n",
    "        print(\"Execution error\", e)\n",
    "        \n",
    "    return session"
   ]
  },
  {
   "cell_type": "code",
   "execution_count": 5,
   "id": "d120ef63",
   "metadata": {},
   "outputs": [
    {
     "name": "stdout",
     "output_type": "stream",
     "text": [
      "done\n"
     ]
    },
    {
     "data": {
      "text/plain": [
       "<cassandra.cluster.Session at 0x272d0310fd0>"
      ]
     },
     "execution_count": 5,
     "metadata": {},
     "output_type": "execute_result"
    }
   ],
   "source": [
    "create_keyspace(session)"
   ]
  },
  {
   "cell_type": "code",
   "execution_count": 6,
   "id": "4eae5949",
   "metadata": {},
   "outputs": [],
   "source": [
    "def create_user(session):\n",
    "    #łączenie z bazą\n",
    "    user_ids = []\n",
    "    try:\n",
    "        session.execute('DROP TABLE IF EXISTS user')\n",
    "        session.execute('CREATE TABLE user (id uuid, first_name text, last_name text, PRIMARY KEY(id))')\n",
    "        \n",
    "        for person in product(first_names, second_names):\n",
    "            first_name, last_name = person[0], person[1]\n",
    "            user_id = uuid.uuid1()\n",
    "            user_ids.append(user_id)\n",
    "            cql = \"INSERT INTO user (id, first_name, last_name) VALUES (%s, %s, %s)\"\n",
    "            vals = [user_id, first_name, last_name]\n",
    "            session.execute(cql, vals)\n",
    "        print(\"done\") \n",
    "    except Exception as e:\n",
    "        print(\"Execution error\", e)\n",
    "        \n",
    "    return user_ids"
   ]
  },
  {
   "cell_type": "code",
   "execution_count": 7,
   "id": "bfb8d01b",
   "metadata": {
    "scrolled": true
   },
   "outputs": [
    {
     "name": "stdout",
     "output_type": "stream",
     "text": [
      "done\n"
     ]
    }
   ],
   "source": [
    "user_ids = create_user(session)"
   ]
  },
  {
   "cell_type": "code",
   "execution_count": 8,
   "id": "e47ab292",
   "metadata": {},
   "outputs": [],
   "source": [
    "planes_name = [\"Galczynski\", \"Syrenka\", \"Balczewski\", \"Sokol\", \"Kalista\", \"Stoch\"]"
   ]
  },
  {
   "cell_type": "code",
   "execution_count": 9,
   "id": "9ce38a95",
   "metadata": {},
   "outputs": [],
   "source": [
    "def create_plane(session):\n",
    "    plane_ids = []\n",
    "    try:\n",
    "        session.execute('DROP TABLE IF EXISTS plane;')\n",
    "        session.execute('CREATE TABLE plane (id uuid, name text, PRIMARY KEY(id));') #PO CO SEAT ID?\n",
    "        \n",
    "        cql = \"INSERT INTO plane (id, name) VALUES (%s, %s);\"\n",
    "        for plane in range(6):\n",
    "            plane_id = uuid.uuid1()\n",
    "            plane_ids.append(plane_id)\n",
    "            name = planes_name[plane] #Generator nazw samolotów\n",
    "            vals = [plane_id, name]\n",
    "            session.execute(cql, vals)\n",
    "        print(\"done\")\n",
    "    except Exception as e:\n",
    "        print(\"Execution error\", e)\n",
    "        \n",
    "    return plane_ids"
   ]
  },
  {
   "cell_type": "code",
   "execution_count": 10,
   "id": "8e0087ae",
   "metadata": {},
   "outputs": [
    {
     "name": "stdout",
     "output_type": "stream",
     "text": [
      "done\n"
     ]
    }
   ],
   "source": [
    "plane_ids = create_plane(session)"
   ]
  },
  {
   "cell_type": "code",
   "execution_count": 13,
   "id": "1bc09383",
   "metadata": {},
   "outputs": [],
   "source": [
    "def create_airport(session):\n",
    "    airport_ids = []\n",
    "    try:\n",
    "        session.execute('DROP TABLE IF EXISTS airport;')\n",
    "        session.execute('CREATE TABLE airport (id uuid, name text, city text, country text, PRIMARY KEY(id));')\n",
    "        \n",
    "        cql = \"INSERT INTO airport (id, name, city, country) VALUES (%s, %s, %s, %s);\"\n",
    "        for airport in [\"Lublin\", \"Warszawa\", \"Poznan\", \"Krakow\", \"Gdansk\",\"Radom\",\"Wroclaw\",\"Lodz\",\"Katowice\"]:\n",
    "            airport_id = uuid.uuid1()\n",
    "            airport_ids.append(airport_id)\n",
    "            city_name = airport\n",
    "            airport_name = city_name +\"_airport\"\n",
    "            vals = [airport_id, airport_name, city_name, \"Poland\"]\n",
    "            session.execute(cql, vals)\n",
    "        print(\"done\")\n",
    "    except NameError:\n",
    "        print(\"Execution error\")\n",
    "        \n",
    "    return airport_ids"
   ]
  },
  {
   "cell_type": "code",
   "execution_count": 14,
   "id": "43a7c481",
   "metadata": {},
   "outputs": [
    {
     "name": "stdout",
     "output_type": "stream",
     "text": [
      "done\n"
     ]
    }
   ],
   "source": [
    "airport_ids = create_airport(session)"
   ]
  },
  {
   "cell_type": "code",
   "execution_count": 15,
   "id": "d6ce3919",
   "metadata": {},
   "outputs": [],
   "source": [
    "def create_flight(session):\n",
    "    flight_ids = []\n",
    "    try:\n",
    "        session.execute('DROP TABLE IF EXISTS flight;')\n",
    "        session.execute('CREATE TABLE flight (id uuid, plane_id uuid, departure_airport_id uuid, arrival_airport_id uuid, PRIMARY KEY(id));')\n",
    "        \n",
    "        cql = \"INSERT INTO flight (id, plane_id, departure_airport_id, arrival_airport_id) VALUES (%s, %s, %s, %s);\"\n",
    "        for i, dep_arr in enumerate(combinations(airport_ids, 2)):\n",
    "            flight_id = uuid.uuid1()\n",
    "            flight_ids.append(flight_id)\n",
    "            departure_airport_id, arrival_airport_id = dep_arr\n",
    "            plane_id = plane_ids[i%len(plane_ids)]\n",
    "            \n",
    "            vals = [flight_id,departure_airport_id,departure_airport_id,plane_id]\n",
    "            session.execute(cql, vals)\n",
    "        print(\"done\")\n",
    "    except Exception as e:\n",
    "        print(\"Execution error\", e)\n",
    "        \n",
    "    return flight_ids"
   ]
  },
  {
   "cell_type": "code",
   "execution_count": 16,
   "id": "c0305786",
   "metadata": {},
   "outputs": [
    {
     "name": "stdout",
     "output_type": "stream",
     "text": [
      "done\n"
     ]
    }
   ],
   "source": [
    "flight_ids = create_flight(session)"
   ]
  },
  {
   "cell_type": "code",
   "execution_count": 17,
   "id": "074b2400",
   "metadata": {},
   "outputs": [],
   "source": [
    "def create_seat(session):\n",
    "    try:\n",
    "        session.execute('DROP TABLE IF EXISTS seat;')\n",
    "        session.execute('CREATE TABLE seat (plane_id uuid, row int, column int, is_vacant boolean, PRIMARY KEY((plane_id), row, column));')\n",
    "        \n",
    "        cql = \"INSERT INTO seat (plane_id, row, column, is_vacant) VALUES (%(plane_id)s, %(row)s, %(column)s, %(is_vacant)s);\"\n",
    "        for plane_id in plane_ids:\n",
    "            for row in range(10):\n",
    "                for col in range(6):\n",
    "                    vals = {\n",
    "                        \"plane_id\": plane_id,\n",
    "                        \"row\": row,\n",
    "                        \"column\": col,\n",
    "                        \"is_vacant\": True\n",
    "                    }\n",
    "                    session.execute(cql, vals)\n",
    "        print(\"done\")\n",
    "\n",
    "    except Exception as e:\n",
    "        print(\"Execution error\", e)"
   ]
  },
  {
   "cell_type": "code",
   "execution_count": 18,
   "id": "a9ce199e",
   "metadata": {},
   "outputs": [
    {
     "name": "stdout",
     "output_type": "stream",
     "text": [
      "done\n"
     ]
    }
   ],
   "source": [
    "create_seat(session)"
   ]
  },
  {
   "cell_type": "code",
   "execution_count": 22,
   "id": "4cf90b9f",
   "metadata": {},
   "outputs": [],
   "source": [
    "def create_reservation(session):\n",
    "    try:\n",
    "        session.execute('DROP TABLE IF EXISTS reservation;')\n",
    "        session.execute('CREATE TABLE reservation (id uuid, user_id uuid, flight_id uuid, seat_id uuid, seat_row int, seat_col int, created_at timestamp, PRIMARY KEY(id));')\n",
    "        print(\"done\")\n",
    "\n",
    "    except Exception as e:\n",
    "        print(\"Execution error\", e)"
   ]
  },
  {
   "cell_type": "code",
   "execution_count": 23,
   "id": "e78cd3be",
   "metadata": {},
   "outputs": [
    {
     "name": "stdout",
     "output_type": "stream",
     "text": [
      "done\n"
     ]
    }
   ],
   "source": [
    "create_reservation(session)"
   ]
  }
 ],
 "metadata": {
  "kernelspec": {
   "display_name": "Python 3 (ipykernel)",
   "language": "python",
   "name": "python3"
  },
  "language_info": {
   "codemirror_mode": {
    "name": "ipython",
    "version": 3
   },
   "file_extension": ".py",
   "mimetype": "text/x-python",
   "name": "python",
   "nbconvert_exporter": "python",
   "pygments_lexer": "ipython3",
   "version": "3.9.12"
  }
 },
 "nbformat": 4,
 "nbformat_minor": 5
}
